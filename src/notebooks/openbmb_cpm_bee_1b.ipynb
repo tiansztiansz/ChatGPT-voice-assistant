{
  "nbformat": 4,
  "nbformat_minor": 0,
  "metadata": {
    "colab": {
      "provenance": [],
      "gpuType": "T4"
    },
    "kernelspec": {
      "name": "python3",
      "display_name": "Python 3"
    },
    "language_info": {
      "name": "python"
    },
    "accelerator": "GPU"
  },
  "cells": [
    {
      "cell_type": "code",
      "execution_count": 1,
      "metadata": {
        "colab": {
          "base_uri": "https://localhost:8080/"
        },
        "id": "DVhH4FrshmiC",
        "outputId": "be87fde6-9b25-447d-8dec-ac941381ff0c"
      },
      "outputs": [
        {
          "output_type": "stream",
          "name": "stdout",
          "text": [
            "Cloning into 'CPM-Bee'...\n",
            "remote: Enumerating objects: 233, done.\u001b[K\n",
            "remote: Counting objects: 100% (32/32), done.\u001b[K\n",
            "remote: Compressing objects: 100% (28/28), done.\u001b[K\n",
            "remote: Total 233 (delta 5), reused 16 (delta 4), pack-reused 201\u001b[K\n",
            "Receiving objects: 100% (233/233), 545.93 KiB | 12.70 MiB/s, done.\n",
            "Resolving deltas: 100% (68/68), done.\n"
          ]
        }
      ],
      "source": [
        "!git clone https://github.com/OpenBMB/CPM-Bee.git"
      ]
    },
    {
      "cell_type": "code",
      "source": [
        "%cd CPM-Bee/src"
      ],
      "metadata": {
        "colab": {
          "base_uri": "https://localhost:8080/"
        },
        "id": "6SQA6DelhrF7",
        "outputId": "ab2858ba-0890-47eb-f776-da873a2ee9b1"
      },
      "execution_count": 2,
      "outputs": [
        {
          "output_type": "stream",
          "name": "stdout",
          "text": [
            "/content/CPM-Bee/src\n"
          ]
        }
      ]
    },
    {
      "cell_type": "code",
      "source": [
        "!git clone https://huggingface.co/openbmb/cpm-bee-1b"
      ],
      "metadata": {
        "colab": {
          "base_uri": "https://localhost:8080/"
        },
        "id": "07-OKrauhsqI",
        "outputId": "d8f16846-6ce9-4a87-cb17-fe73043fbd1f"
      },
      "execution_count": 3,
      "outputs": [
        {
          "output_type": "stream",
          "name": "stdout",
          "text": [
            "Cloning into 'cpm-bee-1b'...\n",
            "remote: Enumerating objects: 8, done.\u001b[K\n",
            "remote: Counting objects: 100% (8/8), done.\u001b[K\n",
            "remote: Compressing objects: 100% (7/7), done.\u001b[K\n",
            "remote: Total 8 (delta 0), reused 0 (delta 0), pack-reused 0\u001b[K\n",
            "Unpacking objects: 100% (8/8), 312.41 KiB | 1.27 MiB/s, done.\n"
          ]
        }
      ]
    },
    {
      "cell_type": "code",
      "source": [
        "!pip install bmtrain"
      ],
      "metadata": {
        "colab": {
          "base_uri": "https://localhost:8080/"
        },
        "id": "iDlXarNdh2-D",
        "outputId": "bd10c05c-0fa5-4ab2-a73b-5bdf7adfeca0"
      },
      "execution_count": 4,
      "outputs": [
        {
          "output_type": "stream",
          "name": "stdout",
          "text": [
            "Looking in indexes: https://pypi.org/simple, https://us-python.pkg.dev/colab-wheels/public/simple/\n",
            "Collecting bmtrain\n",
            "  Downloading bmtrain-0.2.2.tar.gz (58 kB)\n",
            "\u001b[2K     \u001b[90m━━━━━━━━━━━━━━━━━━━━━━━━━━━━━━━━━━━━━━━━\u001b[0m \u001b[32m58.7/58.7 kB\u001b[0m \u001b[31m8.6 MB/s\u001b[0m eta \u001b[36m0:00:00\u001b[0m\n",
            "\u001b[?25h  Preparing metadata (setup.py) ... \u001b[?25l\u001b[?25hdone\n",
            "Requirement already satisfied: numpy in /usr/local/lib/python3.10/dist-packages (from bmtrain) (1.22.4)\n",
            "Building wheels for collected packages: bmtrain\n",
            "  Building wheel for bmtrain (setup.py) ... \u001b[?25l\u001b[?25hdone\n",
            "  Created wheel for bmtrain: filename=bmtrain-0.2.2-cp310-cp310-linux_x86_64.whl size=13412034 sha256=339ed79ea3d1ace40c042546505b826fcac89998cf66bc2e8ba4a4f89877b872\n",
            "  Stored in directory: /root/.cache/pip/wheels/2c/21/2d/a9b120b051f06f18bdca81e4862210b83795032deec040aa5c\n",
            "Successfully built bmtrain\n",
            "Installing collected packages: bmtrain\n",
            "Successfully installed bmtrain-0.2.2\n"
          ]
        }
      ]
    },
    {
      "cell_type": "code",
      "source": [
        "from cpm_live.generation.bee import CPMBeeBeamSearch\n",
        "from cpm_live.models import CPMBeeTorch, CPMBeeConfig\n",
        "from cpm_live.tokenizers import CPMBeeTokenizer\n",
        "import torch\n",
        "\n",
        "\n",
        "config = CPMBeeConfig.from_json_file(\"cpm-bee-1b/config.json\")\n",
        "ckpt_path = \"cpm-bee-1b/pytorch_model.bin\"\n",
        "tokenizer = CPMBeeTokenizer()\n",
        "model = CPMBeeTorch(config=config)\n",
        "\n",
        "model.load_state_dict(torch.load(ckpt_path))\n",
        "model.cuda()\n",
        "\n",
        "beam_search = CPMBeeBeamSearch(\n",
        "    model=model,\n",
        "    tokenizer=tokenizer,\n",
        ")"
      ],
      "metadata": {
        "colab": {
          "base_uri": "https://localhost:8080/"
        },
        "id": "xEa3hjqhh4hy",
        "outputId": "696d9af6-66d2-4485-8357-97277c339e5e"
      },
      "execution_count": 5,
      "outputs": [
        {
          "output_type": "stream",
          "name": "stdout",
          "text": [
            "{'document': '今天天气是真的<mask_0>', '<ans>': {'<mask_0>': '好'}}\n"
          ]
        }
      ]
    },
    {
      "cell_type": "code",
      "source": [
        "# 填空\n",
        "data_list = [\n",
        "{\"input\": \"\"\"心理学领域的研究人员发现，做出重要决定的最好方法之一，比如选择一所大学或<mask_0>，\n",
        "       都涉及到使用决策工作表。研究优化的心理学家将<mask_1>与理论理想决策进行比较，看看它们有多相似。\n",
        "       工作表程序的支持者认为它会产生最优的，也就是说，最好的决策。虽然有<mask_2>可以接受，但它们在本质上都是相似的。\"\"\",\n",
        " \"<ans>\":{\"<mask_0>\":\"\",\"<mask_1>\":\"\",\"<mask_2>\":\"\"}}\n",
        "]\n",
        "\n",
        "inference_results = beam_search.generate(data_list, max_length=100, repetition_penalty=1.1)\n",
        "\n",
        "inference_results[0][\"<ans>\"]"
      ],
      "metadata": {
        "colab": {
          "base_uri": "https://localhost:8080/"
        },
        "id": "ee_bEKH-ptCd",
        "outputId": "31a925a3-7491-4b5d-eeb4-0741e06eec4d"
      },
      "execution_count": 8,
      "outputs": [
        {
          "output_type": "execute_result",
          "data": {
            "text/plain": [
              "{'<mask_0>': '者一个专业', '<mask_1>': '决策工作表', '<mask_2>': '些人认为它不'}"
            ]
          },
          "metadata": {},
          "execution_count": 8
        }
      ]
    },
    {
      "cell_type": "code",
      "source": [
        "# 文本生成\n",
        "data_list = [\n",
        "{\"input\": \"今天天气很好，我和妈妈一起去公园，\", \n",
        " \"prompt\": \"往后写约100字\", \n",
        " \"<ans>\": \"\"}\n",
        "]\n",
        "\n",
        "inference_results = beam_search.generate(data_list, max_length=100, repetition_penalty=1.1)\n",
        "\n",
        "inference_results[0][\"<ans>\"]"
      ],
      "metadata": {
        "colab": {
          "base_uri": "https://localhost:8080/",
          "height": 53
        },
        "id": "0_UM0s2nqYef",
        "outputId": "c8779009-29ad-47b7-bbca-b0dd87c9d605"
      },
      "execution_count": 9,
      "outputs": [
        {
          "output_type": "execute_result",
          "data": {
            "text/plain": [
              "'公园里有很多人，我和妈妈走在最前面。\\n我们走到一半的时候，突然一个人从后面冲了过来，把我撞倒在地。\\n“你没事吧？”我问他。\\n“没事啊！”他说。\\n“那就好。”我说。\\n“你怎么会来这里呢？”他问。\\n“我来给你们送吃的呀！”我说。\\n“哦！”他说。'"
            ],
            "application/vnd.google.colaboratory.intrinsic+json": {
              "type": "string"
            }
          },
          "metadata": {},
          "execution_count": 9
        }
      ]
    },
    {
      "cell_type": "code",
      "source": [
        "# 翻译\n",
        "data_list = [\n",
        "    {\"input\": \"北京是中国的首都\", \n",
        "     \"prompt\": \"中翻英\", \n",
        "     \"<ans>\": \"\"}\n",
        "]\n",
        "\n",
        "inference_results = beam_search.generate(data_list, max_length=100, repetition_penalty=1.1)\n",
        "\n",
        "inference_results[0][\"<ans>\"]"
      ],
      "metadata": {
        "colab": {
          "base_uri": "https://localhost:8080/",
          "height": 35
        },
        "id": "Kpid--CPrV9Z",
        "outputId": "62c2b38f-021a-43bd-e4e7-93051ea49311"
      },
      "execution_count": 10,
      "outputs": [
        {
          "output_type": "execute_result",
          "data": {
            "text/plain": [
              "'Beijing is the capital of China'"
            ],
            "application/vnd.google.colaboratory.intrinsic+json": {
              "type": "string"
            }
          },
          "metadata": {},
          "execution_count": 10
        }
      ]
    },
    {
      "cell_type": "code",
      "source": [
        "# 问答\n",
        "data_list = [\n",
        "{\"input\": \"\"\"NGC 6231是一个位于天蝎座的疏散星团，天球座标为赤经16时54分，\n",
        "       赤纬-41度48分，视觉观测大小约45角分，亮度约2.6视星等，距地球5900光年。\n",
        "       NGC 6231年龄约为三百二十万年，是一个非常年轻的星团，星团内的最亮星是5等的天蝎座 ζ1星。\n",
        "       用双筒望远镜或小型望远镜就能看到个别的行星。\n",
        "       NGC 6231在1654年被意大利天文学家乔瓦尼·巴蒂斯特·霍迪尔纳（Giovanni Battista Hodierna）以Luminosae的名字首次纪录在星表中，\n",
        "       但是未见记载于夏尔·梅西耶的天体列表和威廉·赫歇尔的深空天体目录。\n",
        "       这个天体在1678年被爱德蒙·哈雷（I.7）、1745年被夏西亚科斯（Jean-Phillippe Loys de Cheseaux）（9）、\n",
        "       1751年被尼可拉·路易·拉卡伊（II.13）分别再次独立发现。\"\"\", \n",
        " \"question\": \"NGC 6231的经纬度是多少？\", \n",
        " \"<ans>\": \"\"}\n",
        "]\n",
        "\n",
        "inference_results = beam_search.generate(data_list, max_length=100, repetition_penalty=1.1)\n",
        "\n",
        "inference_results[0][\"<ans>\"]"
      ],
      "metadata": {
        "colab": {
          "base_uri": "https://localhost:8080/",
          "height": 35
        },
        "id": "t5Y64JOlrb7c",
        "outputId": "cb8725b1-6403-4869-b277-1bf54e9764cb"
      },
      "execution_count": 11,
      "outputs": [
        {
          "output_type": "execute_result",
          "data": {
            "text/plain": [
              "'赤纬-41度48分'"
            ],
            "application/vnd.google.colaboratory.intrinsic+json": {
              "type": "string"
            }
          },
          "metadata": {},
          "execution_count": 11
        }
      ]
    },
    {
      "cell_type": "code",
      "source": [
        "# 评分预测\n",
        "data_list = [\n",
        "{\"input\":\"\"\"之前多次聚餐都选择这里，有各种大小的包房同时能容纳很多人，\n",
        "      环境好有特色还有表演，整体聚餐氛围一下被带动起来。\n",
        "      现在由于炭火改成了电烤羊，口感真的不如从前，不过其他菜品都还是不错，\n",
        "      烤羊剩下的拆骨肉最后还能再加工一下椒盐的也很好吃。\"\"\",\n",
        " \"question\":\"评分是多少？(1-5)\",\n",
        " \"<ans>\":\"\"},\n",
        "\n",
        "]\n",
        "\n",
        "inference_results = beam_search.generate(data_list, max_length=100, repetition_penalty=1.1)\n",
        "\n",
        "inference_results[0][\"<ans>\"]"
      ],
      "metadata": {
        "colab": {
          "base_uri": "https://localhost:8080/",
          "height": 35
        },
        "id": "OP4vPaokr5IM",
        "outputId": "36f3c2b4-80fc-476c-f286-b0c3d5aeb1d8"
      },
      "execution_count": 12,
      "outputs": [
        {
          "output_type": "execute_result",
          "data": {
            "text/plain": [
              "'4分'"
            ],
            "application/vnd.google.colaboratory.intrinsic+json": {
              "type": "string"
            }
          },
          "metadata": {},
          "execution_count": 12
        }
      ]
    },
    {
      "cell_type": "code",
      "source": [
        "# 选择题\n",
        "data_list = [\n",
        "{\"input\": \"\"\"父母都希望自己的孩子诚实、勇敢、有礼貌。要想让孩子成为这样的人，\n",
        "       父母首先得从自己做起，要是连自己都做不到，又怎能要求孩子做到呢？\"\"\", \n",
        " \"options\": {\"<option_0>\": \"少提要求\", \"<option_1>\": \"降低标准\", \n",
        "        \"<option_2>\": \"自己先做好\", \"<option_3>\": \"让孩子拿主意\"}, \n",
        " \"question\": \"教育孩子时，父母应该：\", \n",
        " \"<ans>\": \"\"}\n",
        "]\n",
        "\n",
        "inference_results = beam_search.generate(data_list, max_length=100, repetition_penalty=1.1)\n",
        "\n",
        "inference_results[0][\"<ans>\"]"
      ],
      "metadata": {
        "colab": {
          "base_uri": "https://localhost:8080/",
          "height": 35
        },
        "id": "1tvhBxNBsJv_",
        "outputId": "9cae3177-378f-4b40-9f98-aa05b6ea3154"
      },
      "execution_count": 13,
      "outputs": [
        {
          "output_type": "execute_result",
          "data": {
            "text/plain": [
              "'<option_2>'"
            ],
            "application/vnd.google.colaboratory.intrinsic+json": {
              "type": "string"
            }
          },
          "metadata": {},
          "execution_count": 13
        }
      ]
    }
  ]
}